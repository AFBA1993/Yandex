{
  "nbformat": 4,
  "nbformat_minor": 0,
  "metadata": {
    "colab": {
      "name": "TASK1.ipynb",
      "provenance": [],
      "collapsed_sections": [],
      "mount_file_id": "1dsVvixGQK1PRNtEb_G1iiOAIojdSBZ7b",
      "authorship_tag": "ABX9TyMyp8nSTOMGtkAQuH/ZKnFM",
      "include_colab_link": true
    },
    "kernelspec": {
      "name": "python3",
      "display_name": "Python 3"
    },
    "language_info": {
      "name": "python"
    }
  },
  "cells": [
    {
      "cell_type": "markdown",
      "metadata": {
        "id": "view-in-github",
        "colab_type": "text"
      },
      "source": [
        "<a href=\"https://colab.research.google.com/github/AFBA1993/Yandex/blob/main/TASK1.ipynb\" target=\"_parent\"><img src=\"https://colab.research.google.com/assets/colab-badge.svg\" alt=\"Open In Colab\"/></a>"
      ]
    },
    {
      "cell_type": "markdown",
      "source": [
        "Candidate: Andrés Felipe Bolaños Acosta.\n",
        "\n",
        "\n",
        "Position: code reviewer.\n",
        "\n",
        "\n",
        "E-mail: afb.acosta@gmail.com.\n",
        "\n",
        "Mobile phone: +5511973662765.\n",
        "\n",
        "Portfolio: https://github.com/AFBA1993/.\n",
        "\n",
        "Linkedin: https://www.linkedin.com/in/andr%C3%A9s-felipe-bola%C3%B1os-acosta-b14b691a4/.\n",
        "\n",
        "Google Scholar: https://scholar.google.com.br/citations?user=GLKkmsoAAAAJ&hl=pt-BR."
      ],
      "metadata": {
        "id": "myoCqwUY5nZs"
      }
    },
    {
      "cell_type": "markdown",
      "source": [
        "### ***Task 1. Working with data***"
      ],
      "metadata": {
        "id": "uOKHCMLS6JZV"
      }
    },
    {
      "cell_type": "code",
      "execution_count": 1,
      "metadata": {
        "id": "GOG2K6HS6HWc"
      },
      "outputs": [],
      "source": [
        "import pandas as pd\n",
        "import math\n",
        "import numpy as np\n",
        "from re import split"
      ]
    },
    {
      "cell_type": "markdown",
      "source": [
        "1.1. Download the data set movie_metadata.csv, which contains data about films from IMDb\n",
        "(Internet Movie Database).\n",
        "\n",
        "*Solution:*"
      ],
      "metadata": {
        "id": "rnnYN9k6-K7R"
      }
    },
    {
      "cell_type": "code",
      "source": [
        "path_task1=\"/content/drive/MyDrive/YandexTest/movie_metadata.csv\"\n",
        "movie_data=pd.read_csv(path_task1)"
      ],
      "metadata": {
        "id": "8_mDAWnn7XSf"
      },
      "execution_count": 2,
      "outputs": []
    },
    {
      "cell_type": "markdown",
      "source": [
        "1.2. The duration column contains data on the film length. How many missing values are there\n",
        "in this column? \n",
        "\n",
        "*Answer:*"
      ],
      "metadata": {
        "id": "wMJAnhLb-uXX"
      }
    },
    {
      "cell_type": "code",
      "source": [
        "movie_data['duration'].isnull().sum()"
      ],
      "metadata": {
        "colab": {
          "base_uri": "https://localhost:8080/"
        },
        "id": "1EcWSzLX76xY",
        "outputId": "5ee9091b-f94b-456a-a8a0-755fc3fc9ec6"
      },
      "execution_count": 3,
      "outputs": [
        {
          "output_type": "execute_result",
          "data": {
            "text/plain": [
              "15"
            ]
          },
          "metadata": {},
          "execution_count": 3
        }
      ]
    },
    {
      "cell_type": "markdown",
      "source": [
        "There are 15 missing values in the duration column."
      ],
      "metadata": {
        "id": "Yu3ebv86-3zg"
      }
    },
    {
      "cell_type": "markdown",
      "source": [
        "1.3. Replace the missing values in the duration column with the median value for this column.\n",
        "\n",
        "*Answer:*"
      ],
      "metadata": {
        "id": "5jTsa7Ks-ig2"
      }
    },
    {
      "cell_type": "code",
      "source": [
        "movie_data.duration.fillna(movie_data.duration.median(),inplace = True)"
      ],
      "metadata": {
        "id": "EU6HlsFaA2Hw"
      },
      "execution_count": 4,
      "outputs": []
    },
    {
      "cell_type": "markdown",
      "source": [
        "1.4. What is the average film length? Give the answer as a floating-point figure rounded to\n",
        "two decimal places.\n",
        "\n",
        "*Answer:*"
      ],
      "metadata": {
        "id": "Xk85rXO1EVvv"
      }
    },
    {
      "cell_type": "code",
      "source": [
        "round(movie_data.duration.mean(),2)"
      ],
      "metadata": {
        "colab": {
          "base_uri": "https://localhost:8080/"
        },
        "id": "sCbj5dlHEU3v",
        "outputId": "1e093736-0e01-4e7c-e0a9-c3946f946d6c"
      },
      "execution_count": 5,
      "outputs": [
        {
          "output_type": "execute_result",
          "data": {
            "text/plain": [
              "107.19"
            ]
          },
          "metadata": {},
          "execution_count": 5
        }
      ]
    },
    {
      "cell_type": "markdown",
      "source": [
        "The average film length is 107.19"
      ],
      "metadata": {
        "id": "KH3kjGueGmqa"
      }
    },
    {
      "cell_type": "markdown",
      "source": [
        "1.5. Create a movie_duration_category column, which will contain three categories\n",
        "depending on the film length:\n",
        "\n",
        "\n",
        "*   Category \"1. <90\" if the film is less than 90 minutes long\n",
        "*   Category \"2. 90–120\" if the film is between 90 minutes and two hours long (inclusively)\n",
        "*   Category \"3. >120\" if the film is more than two hours long.\n",
        "\n",
        "*Answer:*"
      ],
      "metadata": {
        "id": "jKUvHclHG9d2"
      }
    },
    {
      "cell_type": "code",
      "source": [
        "def category_length(duration_each_film):\n",
        "  if duration_each_film < 90:\n",
        "    return \"<90\"\n",
        "  elif duration_each_film >= 90 and duration_each_film <=120:\n",
        "    return \"90-120\"\n",
        "  elif duration_each_film > 120:\n",
        "    return \">120\""
      ],
      "metadata": {
        "id": "jK22ssIiGc7d"
      },
      "execution_count": 6,
      "outputs": []
    },
    {
      "cell_type": "code",
      "source": [
        "movie_data[\"movie_duration_category\"] = movie_data[\"duration\"].apply(lambda \n",
        "                                                  film: category_length(film))"
      ],
      "metadata": {
        "id": "rw7OQr63SVId"
      },
      "execution_count": 7,
      "outputs": []
    },
    {
      "cell_type": "markdown",
      "source": [
        "1.6. Build a summary table for films released after 2000 (inclusively), to list the numbers of\n",
        "films:\n",
        "\n",
        "*   Table rows: year\n",
        "*   Table columns: movie duration category (\"<90\", \"90–120\", \">120\")\n",
        "*   The year of release should be displayed in the YYYY format.\n",
        "\n",
        "*Answer:*"
      ],
      "metadata": {
        "id": "wt_Al2OKTrcX"
      }
    },
    {
      "cell_type": "code",
      "source": [
        "movies_after_2000 = movie_data.loc[(movie_data[\"title_year\"]) > 1999]"
      ],
      "metadata": {
        "id": "CD2RoPyWXU_h"
      },
      "execution_count": 8,
      "outputs": []
    },
    {
      "cell_type": "code",
      "source": [
        "Table_summary_movies = pd.DataFrame()"
      ],
      "metadata": {
        "id": "DxE7v5zpZMxy"
      },
      "execution_count": 9,
      "outputs": []
    },
    {
      "cell_type": "code",
      "source": [
        "Table_summary_movies[\"year\"] = movies_after_2000[\"title_year\"]\n",
        "Table_summary_movies[\"movie_title\"] = movies_after_2000[\"movie_title\"]\n",
        "Table_summary_movies[\"movie_duration_category\"] = movies_after_2000[\n",
        "                                                    \"movie_duration_category\"]"
      ],
      "metadata": {
        "id": "Z4HtdFU7ZrF1"
      },
      "execution_count": 10,
      "outputs": []
    },
    {
      "cell_type": "code",
      "source": [
        "Table_summary_movies[\"year\"] = Table_summary_movies[\"year\"].apply(\n",
        "                                                        lambda year: int(year))"
      ],
      "metadata": {
        "id": "GfSAB_caaiTW"
      },
      "execution_count": 11,
      "outputs": []
    },
    {
      "cell_type": "code",
      "source": [
        "Table_summary_movies"
      ],
      "metadata": {
        "colab": {
          "base_uri": "https://localhost:8080/",
          "height": 424
        },
        "id": "9iR4cANwbC3s",
        "outputId": "203aa3ef-5f5c-4fd4-fe5f-34efd9420040"
      },
      "execution_count": 12,
      "outputs": [
        {
          "output_type": "execute_result",
          "data": {
            "text/html": [
              "\n",
              "  <div id=\"df-99312803-9ddf-4fe6-bbde-00e74f09754d\">\n",
              "    <div class=\"colab-df-container\">\n",
              "      <div>\n",
              "<style scoped>\n",
              "    .dataframe tbody tr th:only-of-type {\n",
              "        vertical-align: middle;\n",
              "    }\n",
              "\n",
              "    .dataframe tbody tr th {\n",
              "        vertical-align: top;\n",
              "    }\n",
              "\n",
              "    .dataframe thead th {\n",
              "        text-align: right;\n",
              "    }\n",
              "</style>\n",
              "<table border=\"1\" class=\"dataframe\">\n",
              "  <thead>\n",
              "    <tr style=\"text-align: right;\">\n",
              "      <th></th>\n",
              "      <th>year</th>\n",
              "      <th>movie_title</th>\n",
              "      <th>movie_duration_category</th>\n",
              "    </tr>\n",
              "  </thead>\n",
              "  <tbody>\n",
              "    <tr>\n",
              "      <th>0</th>\n",
              "      <td>2009</td>\n",
              "      <td>Avatar</td>\n",
              "      <td>&gt;120</td>\n",
              "    </tr>\n",
              "    <tr>\n",
              "      <th>1</th>\n",
              "      <td>2007</td>\n",
              "      <td>Pirates of the Caribbean: At World's End</td>\n",
              "      <td>&gt;120</td>\n",
              "    </tr>\n",
              "    <tr>\n",
              "      <th>2</th>\n",
              "      <td>2015</td>\n",
              "      <td>Spectre</td>\n",
              "      <td>&gt;120</td>\n",
              "    </tr>\n",
              "    <tr>\n",
              "      <th>3</th>\n",
              "      <td>2012</td>\n",
              "      <td>The Dark Knight Rises</td>\n",
              "      <td>&gt;120</td>\n",
              "    </tr>\n",
              "    <tr>\n",
              "      <th>5</th>\n",
              "      <td>2012</td>\n",
              "      <td>John Carter</td>\n",
              "      <td>&gt;120</td>\n",
              "    </tr>\n",
              "    <tr>\n",
              "      <th>...</th>\n",
              "      <td>...</td>\n",
              "      <td>...</td>\n",
              "      <td>...</td>\n",
              "    </tr>\n",
              "    <tr>\n",
              "      <th>5037</th>\n",
              "      <td>2011</td>\n",
              "      <td>Newlyweds</td>\n",
              "      <td>90-120</td>\n",
              "    </tr>\n",
              "    <tr>\n",
              "      <th>5038</th>\n",
              "      <td>2013</td>\n",
              "      <td>Signed Sealed Delivered</td>\n",
              "      <td>&lt;90</td>\n",
              "    </tr>\n",
              "    <tr>\n",
              "      <th>5040</th>\n",
              "      <td>2013</td>\n",
              "      <td>A Plague So Pleasant</td>\n",
              "      <td>&lt;90</td>\n",
              "    </tr>\n",
              "    <tr>\n",
              "      <th>5041</th>\n",
              "      <td>2012</td>\n",
              "      <td>Shanghai Calling</td>\n",
              "      <td>90-120</td>\n",
              "    </tr>\n",
              "    <tr>\n",
              "      <th>5042</th>\n",
              "      <td>2004</td>\n",
              "      <td>My Date with Drew</td>\n",
              "      <td>90-120</td>\n",
              "    </tr>\n",
              "  </tbody>\n",
              "</table>\n",
              "<p>3597 rows × 3 columns</p>\n",
              "</div>\n",
              "      <button class=\"colab-df-convert\" onclick=\"convertToInteractive('df-99312803-9ddf-4fe6-bbde-00e74f09754d')\"\n",
              "              title=\"Convert this dataframe to an interactive table.\"\n",
              "              style=\"display:none;\">\n",
              "        \n",
              "  <svg xmlns=\"http://www.w3.org/2000/svg\" height=\"24px\"viewBox=\"0 0 24 24\"\n",
              "       width=\"24px\">\n",
              "    <path d=\"M0 0h24v24H0V0z\" fill=\"none\"/>\n",
              "    <path d=\"M18.56 5.44l.94 2.06.94-2.06 2.06-.94-2.06-.94-.94-2.06-.94 2.06-2.06.94zm-11 1L8.5 8.5l.94-2.06 2.06-.94-2.06-.94L8.5 2.5l-.94 2.06-2.06.94zm10 10l.94 2.06.94-2.06 2.06-.94-2.06-.94-.94-2.06-.94 2.06-2.06.94z\"/><path d=\"M17.41 7.96l-1.37-1.37c-.4-.4-.92-.59-1.43-.59-.52 0-1.04.2-1.43.59L10.3 9.45l-7.72 7.72c-.78.78-.78 2.05 0 2.83L4 21.41c.39.39.9.59 1.41.59.51 0 1.02-.2 1.41-.59l7.78-7.78 2.81-2.81c.8-.78.8-2.07 0-2.86zM5.41 20L4 18.59l7.72-7.72 1.47 1.35L5.41 20z\"/>\n",
              "  </svg>\n",
              "      </button>\n",
              "      \n",
              "  <style>\n",
              "    .colab-df-container {\n",
              "      display:flex;\n",
              "      flex-wrap:wrap;\n",
              "      gap: 12px;\n",
              "    }\n",
              "\n",
              "    .colab-df-convert {\n",
              "      background-color: #E8F0FE;\n",
              "      border: none;\n",
              "      border-radius: 50%;\n",
              "      cursor: pointer;\n",
              "      display: none;\n",
              "      fill: #1967D2;\n",
              "      height: 32px;\n",
              "      padding: 0 0 0 0;\n",
              "      width: 32px;\n",
              "    }\n",
              "\n",
              "    .colab-df-convert:hover {\n",
              "      background-color: #E2EBFA;\n",
              "      box-shadow: 0px 1px 2px rgba(60, 64, 67, 0.3), 0px 1px 3px 1px rgba(60, 64, 67, 0.15);\n",
              "      fill: #174EA6;\n",
              "    }\n",
              "\n",
              "    [theme=dark] .colab-df-convert {\n",
              "      background-color: #3B4455;\n",
              "      fill: #D2E3FC;\n",
              "    }\n",
              "\n",
              "    [theme=dark] .colab-df-convert:hover {\n",
              "      background-color: #434B5C;\n",
              "      box-shadow: 0px 1px 3px 1px rgba(0, 0, 0, 0.15);\n",
              "      filter: drop-shadow(0px 1px 2px rgba(0, 0, 0, 0.3));\n",
              "      fill: #FFFFFF;\n",
              "    }\n",
              "  </style>\n",
              "\n",
              "      <script>\n",
              "        const buttonEl =\n",
              "          document.querySelector('#df-99312803-9ddf-4fe6-bbde-00e74f09754d button.colab-df-convert');\n",
              "        buttonEl.style.display =\n",
              "          google.colab.kernel.accessAllowed ? 'block' : 'none';\n",
              "\n",
              "        async function convertToInteractive(key) {\n",
              "          const element = document.querySelector('#df-99312803-9ddf-4fe6-bbde-00e74f09754d');\n",
              "          const dataTable =\n",
              "            await google.colab.kernel.invokeFunction('convertToInteractive',\n",
              "                                                     [key], {});\n",
              "          if (!dataTable) return;\n",
              "\n",
              "          const docLinkHtml = 'Like what you see? Visit the ' +\n",
              "            '<a target=\"_blank\" href=https://colab.research.google.com/notebooks/data_table.ipynb>data table notebook</a>'\n",
              "            + ' to learn more about interactive tables.';\n",
              "          element.innerHTML = '';\n",
              "          dataTable['output_type'] = 'display_data';\n",
              "          await google.colab.output.renderOutput(dataTable, element);\n",
              "          const docLink = document.createElement('div');\n",
              "          docLink.innerHTML = docLinkHtml;\n",
              "          element.appendChild(docLink);\n",
              "        }\n",
              "      </script>\n",
              "    </div>\n",
              "  </div>\n",
              "  "
            ],
            "text/plain": [
              "      year                                movie_title movie_duration_category\n",
              "0     2009                                    Avatar                     >120\n",
              "1     2007  Pirates of the Caribbean: At World's End                     >120\n",
              "2     2015                                   Spectre                     >120\n",
              "3     2012                     The Dark Knight Rises                     >120\n",
              "5     2012                               John Carter                     >120\n",
              "...    ...                                        ...                     ...\n",
              "5037  2011                                 Newlyweds                   90-120\n",
              "5038  2013                   Signed Sealed Delivered                      <90\n",
              "5040  2013                      A Plague So Pleasant                      <90\n",
              "5041  2012                          Shanghai Calling                   90-120\n",
              "5042  2004                         My Date with Drew                   90-120\n",
              "\n",
              "[3597 rows x 3 columns]"
            ]
          },
          "metadata": {},
          "execution_count": 12
        }
      ]
    },
    {
      "cell_type": "code",
      "source": [
        "Table_summary_movies[\">120\"] = Table_summary_movies[\"movie_duration_category\"]\\\n",
        "                         .apply(lambda category: 1 if category == \">120\" else 0)\n",
        "\n",
        "Table_summary_movies[\"<90\"] = Table_summary_movies[\"movie_duration_category\"]\\\n",
        "                         .apply(lambda category: 1 if category == \"<90\" else 0\n",
        "                                )\n",
        "Table_summary_movies[\"90-120\"] = \\\n",
        "                       Table_summary_movies[\"movie_duration_category\"]\\\n",
        "                      .apply(lambda category: 1 if category == \"90-120\" else 0)\n",
        "\n",
        "Table_summary_movies"
      ],
      "metadata": {
        "colab": {
          "base_uri": "https://localhost:8080/",
          "height": 424
        },
        "id": "uoo90NJ9Tku9",
        "outputId": "5faf09a9-a914-41a6-e73c-080eaf3fcd08"
      },
      "execution_count": 13,
      "outputs": [
        {
          "output_type": "execute_result",
          "data": {
            "text/html": [
              "\n",
              "  <div id=\"df-0c06eca2-c447-474d-a78d-e18e3302dc87\">\n",
              "    <div class=\"colab-df-container\">\n",
              "      <div>\n",
              "<style scoped>\n",
              "    .dataframe tbody tr th:only-of-type {\n",
              "        vertical-align: middle;\n",
              "    }\n",
              "\n",
              "    .dataframe tbody tr th {\n",
              "        vertical-align: top;\n",
              "    }\n",
              "\n",
              "    .dataframe thead th {\n",
              "        text-align: right;\n",
              "    }\n",
              "</style>\n",
              "<table border=\"1\" class=\"dataframe\">\n",
              "  <thead>\n",
              "    <tr style=\"text-align: right;\">\n",
              "      <th></th>\n",
              "      <th>year</th>\n",
              "      <th>movie_title</th>\n",
              "      <th>movie_duration_category</th>\n",
              "      <th>&gt;120</th>\n",
              "      <th>&lt;90</th>\n",
              "      <th>90-120</th>\n",
              "    </tr>\n",
              "  </thead>\n",
              "  <tbody>\n",
              "    <tr>\n",
              "      <th>0</th>\n",
              "      <td>2009</td>\n",
              "      <td>Avatar</td>\n",
              "      <td>&gt;120</td>\n",
              "      <td>1</td>\n",
              "      <td>0</td>\n",
              "      <td>0</td>\n",
              "    </tr>\n",
              "    <tr>\n",
              "      <th>1</th>\n",
              "      <td>2007</td>\n",
              "      <td>Pirates of the Caribbean: At World's End</td>\n",
              "      <td>&gt;120</td>\n",
              "      <td>1</td>\n",
              "      <td>0</td>\n",
              "      <td>0</td>\n",
              "    </tr>\n",
              "    <tr>\n",
              "      <th>2</th>\n",
              "      <td>2015</td>\n",
              "      <td>Spectre</td>\n",
              "      <td>&gt;120</td>\n",
              "      <td>1</td>\n",
              "      <td>0</td>\n",
              "      <td>0</td>\n",
              "    </tr>\n",
              "    <tr>\n",
              "      <th>3</th>\n",
              "      <td>2012</td>\n",
              "      <td>The Dark Knight Rises</td>\n",
              "      <td>&gt;120</td>\n",
              "      <td>1</td>\n",
              "      <td>0</td>\n",
              "      <td>0</td>\n",
              "    </tr>\n",
              "    <tr>\n",
              "      <th>5</th>\n",
              "      <td>2012</td>\n",
              "      <td>John Carter</td>\n",
              "      <td>&gt;120</td>\n",
              "      <td>1</td>\n",
              "      <td>0</td>\n",
              "      <td>0</td>\n",
              "    </tr>\n",
              "    <tr>\n",
              "      <th>...</th>\n",
              "      <td>...</td>\n",
              "      <td>...</td>\n",
              "      <td>...</td>\n",
              "      <td>...</td>\n",
              "      <td>...</td>\n",
              "      <td>...</td>\n",
              "    </tr>\n",
              "    <tr>\n",
              "      <th>5037</th>\n",
              "      <td>2011</td>\n",
              "      <td>Newlyweds</td>\n",
              "      <td>90-120</td>\n",
              "      <td>0</td>\n",
              "      <td>0</td>\n",
              "      <td>1</td>\n",
              "    </tr>\n",
              "    <tr>\n",
              "      <th>5038</th>\n",
              "      <td>2013</td>\n",
              "      <td>Signed Sealed Delivered</td>\n",
              "      <td>&lt;90</td>\n",
              "      <td>0</td>\n",
              "      <td>1</td>\n",
              "      <td>0</td>\n",
              "    </tr>\n",
              "    <tr>\n",
              "      <th>5040</th>\n",
              "      <td>2013</td>\n",
              "      <td>A Plague So Pleasant</td>\n",
              "      <td>&lt;90</td>\n",
              "      <td>0</td>\n",
              "      <td>1</td>\n",
              "      <td>0</td>\n",
              "    </tr>\n",
              "    <tr>\n",
              "      <th>5041</th>\n",
              "      <td>2012</td>\n",
              "      <td>Shanghai Calling</td>\n",
              "      <td>90-120</td>\n",
              "      <td>0</td>\n",
              "      <td>0</td>\n",
              "      <td>1</td>\n",
              "    </tr>\n",
              "    <tr>\n",
              "      <th>5042</th>\n",
              "      <td>2004</td>\n",
              "      <td>My Date with Drew</td>\n",
              "      <td>90-120</td>\n",
              "      <td>0</td>\n",
              "      <td>0</td>\n",
              "      <td>1</td>\n",
              "    </tr>\n",
              "  </tbody>\n",
              "</table>\n",
              "<p>3597 rows × 6 columns</p>\n",
              "</div>\n",
              "      <button class=\"colab-df-convert\" onclick=\"convertToInteractive('df-0c06eca2-c447-474d-a78d-e18e3302dc87')\"\n",
              "              title=\"Convert this dataframe to an interactive table.\"\n",
              "              style=\"display:none;\">\n",
              "        \n",
              "  <svg xmlns=\"http://www.w3.org/2000/svg\" height=\"24px\"viewBox=\"0 0 24 24\"\n",
              "       width=\"24px\">\n",
              "    <path d=\"M0 0h24v24H0V0z\" fill=\"none\"/>\n",
              "    <path d=\"M18.56 5.44l.94 2.06.94-2.06 2.06-.94-2.06-.94-.94-2.06-.94 2.06-2.06.94zm-11 1L8.5 8.5l.94-2.06 2.06-.94-2.06-.94L8.5 2.5l-.94 2.06-2.06.94zm10 10l.94 2.06.94-2.06 2.06-.94-2.06-.94-.94-2.06-.94 2.06-2.06.94z\"/><path d=\"M17.41 7.96l-1.37-1.37c-.4-.4-.92-.59-1.43-.59-.52 0-1.04.2-1.43.59L10.3 9.45l-7.72 7.72c-.78.78-.78 2.05 0 2.83L4 21.41c.39.39.9.59 1.41.59.51 0 1.02-.2 1.41-.59l7.78-7.78 2.81-2.81c.8-.78.8-2.07 0-2.86zM5.41 20L4 18.59l7.72-7.72 1.47 1.35L5.41 20z\"/>\n",
              "  </svg>\n",
              "      </button>\n",
              "      \n",
              "  <style>\n",
              "    .colab-df-container {\n",
              "      display:flex;\n",
              "      flex-wrap:wrap;\n",
              "      gap: 12px;\n",
              "    }\n",
              "\n",
              "    .colab-df-convert {\n",
              "      background-color: #E8F0FE;\n",
              "      border: none;\n",
              "      border-radius: 50%;\n",
              "      cursor: pointer;\n",
              "      display: none;\n",
              "      fill: #1967D2;\n",
              "      height: 32px;\n",
              "      padding: 0 0 0 0;\n",
              "      width: 32px;\n",
              "    }\n",
              "\n",
              "    .colab-df-convert:hover {\n",
              "      background-color: #E2EBFA;\n",
              "      box-shadow: 0px 1px 2px rgba(60, 64, 67, 0.3), 0px 1px 3px 1px rgba(60, 64, 67, 0.15);\n",
              "      fill: #174EA6;\n",
              "    }\n",
              "\n",
              "    [theme=dark] .colab-df-convert {\n",
              "      background-color: #3B4455;\n",
              "      fill: #D2E3FC;\n",
              "    }\n",
              "\n",
              "    [theme=dark] .colab-df-convert:hover {\n",
              "      background-color: #434B5C;\n",
              "      box-shadow: 0px 1px 3px 1px rgba(0, 0, 0, 0.15);\n",
              "      filter: drop-shadow(0px 1px 2px rgba(0, 0, 0, 0.3));\n",
              "      fill: #FFFFFF;\n",
              "    }\n",
              "  </style>\n",
              "\n",
              "      <script>\n",
              "        const buttonEl =\n",
              "          document.querySelector('#df-0c06eca2-c447-474d-a78d-e18e3302dc87 button.colab-df-convert');\n",
              "        buttonEl.style.display =\n",
              "          google.colab.kernel.accessAllowed ? 'block' : 'none';\n",
              "\n",
              "        async function convertToInteractive(key) {\n",
              "          const element = document.querySelector('#df-0c06eca2-c447-474d-a78d-e18e3302dc87');\n",
              "          const dataTable =\n",
              "            await google.colab.kernel.invokeFunction('convertToInteractive',\n",
              "                                                     [key], {});\n",
              "          if (!dataTable) return;\n",
              "\n",
              "          const docLinkHtml = 'Like what you see? Visit the ' +\n",
              "            '<a target=\"_blank\" href=https://colab.research.google.com/notebooks/data_table.ipynb>data table notebook</a>'\n",
              "            + ' to learn more about interactive tables.';\n",
              "          element.innerHTML = '';\n",
              "          dataTable['output_type'] = 'display_data';\n",
              "          await google.colab.output.renderOutput(dataTable, element);\n",
              "          const docLink = document.createElement('div');\n",
              "          docLink.innerHTML = docLinkHtml;\n",
              "          element.appendChild(docLink);\n",
              "        }\n",
              "      </script>\n",
              "    </div>\n",
              "  </div>\n",
              "  "
            ],
            "text/plain": [
              "      year                                movie_title movie_duration_category  \\\n",
              "0     2009                                    Avatar                     >120   \n",
              "1     2007  Pirates of the Caribbean: At World's End                     >120   \n",
              "2     2015                                   Spectre                     >120   \n",
              "3     2012                     The Dark Knight Rises                     >120   \n",
              "5     2012                               John Carter                     >120   \n",
              "...    ...                                        ...                     ...   \n",
              "5037  2011                                 Newlyweds                   90-120   \n",
              "5038  2013                   Signed Sealed Delivered                      <90   \n",
              "5040  2013                      A Plague So Pleasant                      <90   \n",
              "5041  2012                          Shanghai Calling                   90-120   \n",
              "5042  2004                         My Date with Drew                   90-120   \n",
              "\n",
              "      >120  <90  90-120  \n",
              "0        1    0       0  \n",
              "1        1    0       0  \n",
              "2        1    0       0  \n",
              "3        1    0       0  \n",
              "5        1    0       0  \n",
              "...    ...  ...     ...  \n",
              "5037     0    0       1  \n",
              "5038     0    1       0  \n",
              "5040     0    1       0  \n",
              "5041     0    0       1  \n",
              "5042     0    0       1  \n",
              "\n",
              "[3597 rows x 6 columns]"
            ]
          },
          "metadata": {},
          "execution_count": 13
        }
      ]
    },
    {
      "cell_type": "code",
      "source": [
        "Table_summary_movies.groupby([\"year\"])[\"<90\", \"90-120\", \">120\"].sum()"
      ],
      "metadata": {
        "colab": {
          "base_uri": "https://localhost:8080/",
          "height": 671
        },
        "id": "n5j00cRKVmcW",
        "outputId": "d4c7a162-1b3c-4f2b-c5d4-7abb3019a2b9"
      },
      "execution_count": 14,
      "outputs": [
        {
          "output_type": "stream",
          "name": "stderr",
          "text": [
            "/usr/local/lib/python3.7/dist-packages/ipykernel_launcher.py:1: FutureWarning: Indexing with multiple keys (implicitly converted to a tuple of keys) will be deprecated, use a list instead.\n",
            "  \"\"\"Entry point for launching an IPython kernel.\n"
          ]
        },
        {
          "output_type": "execute_result",
          "data": {
            "text/html": [
              "\n",
              "  <div id=\"df-3b04ae07-fdb1-4aa4-837d-eaf228cc5e71\">\n",
              "    <div class=\"colab-df-container\">\n",
              "      <div>\n",
              "<style scoped>\n",
              "    .dataframe tbody tr th:only-of-type {\n",
              "        vertical-align: middle;\n",
              "    }\n",
              "\n",
              "    .dataframe tbody tr th {\n",
              "        vertical-align: top;\n",
              "    }\n",
              "\n",
              "    .dataframe thead th {\n",
              "        text-align: right;\n",
              "    }\n",
              "</style>\n",
              "<table border=\"1\" class=\"dataframe\">\n",
              "  <thead>\n",
              "    <tr style=\"text-align: right;\">\n",
              "      <th></th>\n",
              "      <th>&lt;90</th>\n",
              "      <th>90-120</th>\n",
              "      <th>&gt;120</th>\n",
              "    </tr>\n",
              "    <tr>\n",
              "      <th>year</th>\n",
              "      <th></th>\n",
              "      <th></th>\n",
              "      <th></th>\n",
              "    </tr>\n",
              "  </thead>\n",
              "  <tbody>\n",
              "    <tr>\n",
              "      <th>2000</th>\n",
              "      <td>25</td>\n",
              "      <td>112</td>\n",
              "      <td>34</td>\n",
              "    </tr>\n",
              "    <tr>\n",
              "      <th>2001</th>\n",
              "      <td>29</td>\n",
              "      <td>120</td>\n",
              "      <td>39</td>\n",
              "    </tr>\n",
              "    <tr>\n",
              "      <th>2002</th>\n",
              "      <td>36</td>\n",
              "      <td>146</td>\n",
              "      <td>27</td>\n",
              "    </tr>\n",
              "    <tr>\n",
              "      <th>2003</th>\n",
              "      <td>31</td>\n",
              "      <td>108</td>\n",
              "      <td>30</td>\n",
              "    </tr>\n",
              "    <tr>\n",
              "      <th>2004</th>\n",
              "      <td>30</td>\n",
              "      <td>142</td>\n",
              "      <td>42</td>\n",
              "    </tr>\n",
              "    <tr>\n",
              "      <th>2005</th>\n",
              "      <td>31</td>\n",
              "      <td>142</td>\n",
              "      <td>48</td>\n",
              "    </tr>\n",
              "    <tr>\n",
              "      <th>2006</th>\n",
              "      <td>40</td>\n",
              "      <td>146</td>\n",
              "      <td>53</td>\n",
              "    </tr>\n",
              "    <tr>\n",
              "      <th>2007</th>\n",
              "      <td>31</td>\n",
              "      <td>130</td>\n",
              "      <td>43</td>\n",
              "    </tr>\n",
              "    <tr>\n",
              "      <th>2008</th>\n",
              "      <td>29</td>\n",
              "      <td>160</td>\n",
              "      <td>36</td>\n",
              "    </tr>\n",
              "    <tr>\n",
              "      <th>2009</th>\n",
              "      <td>42</td>\n",
              "      <td>178</td>\n",
              "      <td>40</td>\n",
              "    </tr>\n",
              "    <tr>\n",
              "      <th>2010</th>\n",
              "      <td>26</td>\n",
              "      <td>171</td>\n",
              "      <td>33</td>\n",
              "    </tr>\n",
              "    <tr>\n",
              "      <th>2011</th>\n",
              "      <td>36</td>\n",
              "      <td>150</td>\n",
              "      <td>39</td>\n",
              "    </tr>\n",
              "    <tr>\n",
              "      <th>2012</th>\n",
              "      <td>41</td>\n",
              "      <td>139</td>\n",
              "      <td>41</td>\n",
              "    </tr>\n",
              "    <tr>\n",
              "      <th>2013</th>\n",
              "      <td>38</td>\n",
              "      <td>145</td>\n",
              "      <td>54</td>\n",
              "    </tr>\n",
              "    <tr>\n",
              "      <th>2014</th>\n",
              "      <td>36</td>\n",
              "      <td>171</td>\n",
              "      <td>45</td>\n",
              "    </tr>\n",
              "    <tr>\n",
              "      <th>2015</th>\n",
              "      <td>34</td>\n",
              "      <td>145</td>\n",
              "      <td>47</td>\n",
              "    </tr>\n",
              "    <tr>\n",
              "      <th>2016</th>\n",
              "      <td>8</td>\n",
              "      <td>79</td>\n",
              "      <td>19</td>\n",
              "    </tr>\n",
              "  </tbody>\n",
              "</table>\n",
              "</div>\n",
              "      <button class=\"colab-df-convert\" onclick=\"convertToInteractive('df-3b04ae07-fdb1-4aa4-837d-eaf228cc5e71')\"\n",
              "              title=\"Convert this dataframe to an interactive table.\"\n",
              "              style=\"display:none;\">\n",
              "        \n",
              "  <svg xmlns=\"http://www.w3.org/2000/svg\" height=\"24px\"viewBox=\"0 0 24 24\"\n",
              "       width=\"24px\">\n",
              "    <path d=\"M0 0h24v24H0V0z\" fill=\"none\"/>\n",
              "    <path d=\"M18.56 5.44l.94 2.06.94-2.06 2.06-.94-2.06-.94-.94-2.06-.94 2.06-2.06.94zm-11 1L8.5 8.5l.94-2.06 2.06-.94-2.06-.94L8.5 2.5l-.94 2.06-2.06.94zm10 10l.94 2.06.94-2.06 2.06-.94-2.06-.94-.94-2.06-.94 2.06-2.06.94z\"/><path d=\"M17.41 7.96l-1.37-1.37c-.4-.4-.92-.59-1.43-.59-.52 0-1.04.2-1.43.59L10.3 9.45l-7.72 7.72c-.78.78-.78 2.05 0 2.83L4 21.41c.39.39.9.59 1.41.59.51 0 1.02-.2 1.41-.59l7.78-7.78 2.81-2.81c.8-.78.8-2.07 0-2.86zM5.41 20L4 18.59l7.72-7.72 1.47 1.35L5.41 20z\"/>\n",
              "  </svg>\n",
              "      </button>\n",
              "      \n",
              "  <style>\n",
              "    .colab-df-container {\n",
              "      display:flex;\n",
              "      flex-wrap:wrap;\n",
              "      gap: 12px;\n",
              "    }\n",
              "\n",
              "    .colab-df-convert {\n",
              "      background-color: #E8F0FE;\n",
              "      border: none;\n",
              "      border-radius: 50%;\n",
              "      cursor: pointer;\n",
              "      display: none;\n",
              "      fill: #1967D2;\n",
              "      height: 32px;\n",
              "      padding: 0 0 0 0;\n",
              "      width: 32px;\n",
              "    }\n",
              "\n",
              "    .colab-df-convert:hover {\n",
              "      background-color: #E2EBFA;\n",
              "      box-shadow: 0px 1px 2px rgba(60, 64, 67, 0.3), 0px 1px 3px 1px rgba(60, 64, 67, 0.15);\n",
              "      fill: #174EA6;\n",
              "    }\n",
              "\n",
              "    [theme=dark] .colab-df-convert {\n",
              "      background-color: #3B4455;\n",
              "      fill: #D2E3FC;\n",
              "    }\n",
              "\n",
              "    [theme=dark] .colab-df-convert:hover {\n",
              "      background-color: #434B5C;\n",
              "      box-shadow: 0px 1px 3px 1px rgba(0, 0, 0, 0.15);\n",
              "      filter: drop-shadow(0px 1px 2px rgba(0, 0, 0, 0.3));\n",
              "      fill: #FFFFFF;\n",
              "    }\n",
              "  </style>\n",
              "\n",
              "      <script>\n",
              "        const buttonEl =\n",
              "          document.querySelector('#df-3b04ae07-fdb1-4aa4-837d-eaf228cc5e71 button.colab-df-convert');\n",
              "        buttonEl.style.display =\n",
              "          google.colab.kernel.accessAllowed ? 'block' : 'none';\n",
              "\n",
              "        async function convertToInteractive(key) {\n",
              "          const element = document.querySelector('#df-3b04ae07-fdb1-4aa4-837d-eaf228cc5e71');\n",
              "          const dataTable =\n",
              "            await google.colab.kernel.invokeFunction('convertToInteractive',\n",
              "                                                     [key], {});\n",
              "          if (!dataTable) return;\n",
              "\n",
              "          const docLinkHtml = 'Like what you see? Visit the ' +\n",
              "            '<a target=\"_blank\" href=https://colab.research.google.com/notebooks/data_table.ipynb>data table notebook</a>'\n",
              "            + ' to learn more about interactive tables.';\n",
              "          element.innerHTML = '';\n",
              "          dataTable['output_type'] = 'display_data';\n",
              "          await google.colab.output.renderOutput(dataTable, element);\n",
              "          const docLink = document.createElement('div');\n",
              "          docLink.innerHTML = docLinkHtml;\n",
              "          element.appendChild(docLink);\n",
              "        }\n",
              "      </script>\n",
              "    </div>\n",
              "  </div>\n",
              "  "
            ],
            "text/plain": [
              "      <90  90-120  >120\n",
              "year                   \n",
              "2000   25     112    34\n",
              "2001   29     120    39\n",
              "2002   36     146    27\n",
              "2003   31     108    30\n",
              "2004   30     142    42\n",
              "2005   31     142    48\n",
              "2006   40     146    53\n",
              "2007   31     130    43\n",
              "2008   29     160    36\n",
              "2009   42     178    40\n",
              "2010   26     171    33\n",
              "2011   36     150    39\n",
              "2012   41     139    41\n",
              "2013   38     145    54\n",
              "2014   36     171    45\n",
              "2015   34     145    47\n",
              "2016    8      79    19"
            ]
          },
          "metadata": {},
          "execution_count": 14
        }
      ]
    },
    {
      "cell_type": "markdown",
      "source": [
        "1.7. How many films between 90 minutes and two hours long were released in 2008?.\n",
        "\n",
        "*Answer:*"
      ],
      "metadata": {
        "id": "aggjTwZkdAyP"
      }
    },
    {
      "cell_type": "code",
      "source": [
        "movies_2008 = Table_summary_movies.loc[(Table_summary_movies[\"year\"] == 2008 ) \n",
        "                    & (Table_summary_movies[\"movie_duration_category\"] == \n",
        "                                                                    \"90-120\")]"
      ],
      "metadata": {
        "id": "ape9N6JqdAFz"
      },
      "execution_count": 15,
      "outputs": []
    },
    {
      "cell_type": "code",
      "source": [
        "movies_2008.reset_index(drop=True, inplace=True)"
      ],
      "metadata": {
        "id": "irEx7zlcio7y"
      },
      "execution_count": 16,
      "outputs": []
    },
    {
      "cell_type": "code",
      "source": [
        "movies_2008.index[-1]+1"
      ],
      "metadata": {
        "colab": {
          "base_uri": "https://localhost:8080/"
        },
        "id": "9OCMXtEgjkHO",
        "outputId": "22abaefe-5658-4719-befe-105e30ee62b9"
      },
      "execution_count": 17,
      "outputs": [
        {
          "output_type": "execute_result",
          "data": {
            "text/plain": [
              "160"
            ]
          },
          "metadata": {},
          "execution_count": 17
        }
      ]
    },
    {
      "cell_type": "markdown",
      "source": [
        "160 films were released in 2008"
      ],
      "metadata": {
        "id": "taALIoLMkRZe"
      }
    },
    {
      "cell_type": "markdown",
      "source": [
        "1.8. The plot_keywords column holds keywords characterizing the film's plot. Using the data\n",
        "in this column, create a column called movie_plot_category, to contain four categories\n",
        "depending on the key words in the column:\n",
        "\n",
        "\n",
        "\n",
        "*   Category \"love_and_death\" if the keywords include both \"love\" and \"death\".\n",
        "*  Category \"love\" if the keywords include the word \"love\".\n",
        "*   Category \"death\" if the keywords include the word \"death\".\n",
        "*   Category \"other\" if the keywords do not meet the conditions above.\n",
        "\n",
        "*Answer:*"
      ],
      "metadata": {
        "id": "Cx766VWWszpU"
      }
    },
    {
      "cell_type": "code",
      "source": [
        "def plot_category(keywords_text):\n",
        "  def isnan(value):\n",
        "    try:\n",
        "        return math.isnan(float(value))\n",
        "    except:\n",
        "        return False\n",
        "\n",
        "  if isnan(keywords_text):\n",
        "    return np.nan\n",
        "  else: \n",
        "    just_love = (\"love\" in keywords_text) and not (\"death\" in keywords_text)\n",
        "    just_death = not(\"love\" in keywords_text) and (\"death\" in keywords_text)\n",
        "    love_death = (\"love\" in keywords_text) and (\"death\" in keywords_text)\n",
        "\n",
        "    if just_love :\n",
        "      return \"love\"  \n",
        "    elif just_death:\n",
        "      return \"death\"\n",
        "    elif love_death:\n",
        "      return \"love_and_death\"\n",
        "    else:\n",
        "      return \"other\"  \n",
        "\n",
        "def plot_category2(keywords_text):\n",
        "  def isnan(value):\n",
        "    try:\n",
        "        import math\n",
        "        return math.isnan(float(value))\n",
        "    except:\n",
        "        return False\n",
        "\n",
        "  if isnan(keywords_text):\n",
        "    return np.nan\n",
        "  else:\n",
        "\n",
        "    love = False\n",
        "    death = False\n",
        "\n",
        "    keywords_text= keywords_text.split(\"|\")\n",
        "    for word in keywords_text:\n",
        "      print(word)\n",
        "      word = word.split()\n",
        "      for subword in word:\n",
        "        print(\"  \"+subword)\n",
        "        if subword == \"love\":\n",
        "          love = True\n",
        "        if subword == \"death\":\n",
        "          death = True\n",
        "\n",
        "    if love and not death:\n",
        "      return \"love\"\n",
        "    elif death and not love:\n",
        "      return \"death\"\n",
        "    elif death and love:\n",
        "      return \"love_and_death\"\n",
        "    else:\n",
        "      return \"other\",love,death"
      ],
      "metadata": {
        "id": "4_WF8xQStjM_"
      },
      "execution_count": 18,
      "outputs": []
    },
    {
      "cell_type": "code",
      "source": [
        "movie_data[\"movie_plot_category\"] = movie_data[\"plot_keywords\"].apply(lambda \n",
        "                                                  film: plot_category(film))"
      ],
      "metadata": {
        "id": "AJKhDFRHEQwq"
      },
      "execution_count": 19,
      "outputs": []
    },
    {
      "cell_type": "markdown",
      "source": [
        "*Note:* The current solution uses the function \"plot_category\" in order to clasify the films, this function carries out the classification if the especified word is within the \"plot_keywords\". \n",
        "\n",
        "However, a second functions was coded, which is named as \"plot_category2\", this function classifies the film if the specified category word matches exactly in the \"plot_keywords\" field."
      ],
      "metadata": {
        "id": "4VL229gMLk1d"
      }
    },
    {
      "cell_type": "markdown",
      "source": [
        "1.9. The imdb_score column shows a viewer rating for the film. Build a table to reflect the average rating of films depending on which movie_plot_category category they belong to.\n",
        "\n",
        "*Answer:*"
      ],
      "metadata": {
        "id": "UxF4UwlrATtb"
      }
    },
    {
      "cell_type": "code",
      "source": [
        "movie_data[\"imdb_score\"].isnull().sum()"
      ],
      "metadata": {
        "colab": {
          "base_uri": "https://localhost:8080/"
        },
        "id": "S9qYinU-Gq3_",
        "outputId": "39e7eea0-d462-4aec-a183-bfeb6608d72e"
      },
      "execution_count": 20,
      "outputs": [
        {
          "output_type": "execute_result",
          "data": {
            "text/plain": [
              "0"
            ]
          },
          "metadata": {},
          "execution_count": 20
        }
      ]
    },
    {
      "cell_type": "code",
      "source": [
        "other_cat_films = movie_data.loc[(movie_data[\"movie_plot_category\"] == \"other\")]\n",
        "love_cat_films = movie_data.loc[(movie_data[\"movie_plot_category\"] == \"love\")]\n",
        "death_cat_films = movie_data.loc[(movie_data[\"movie_plot_category\"] == \"death\")]\n",
        "lovedeath_cat_films = movie_data.loc[(movie_data[\"movie_plot_category\"]\n",
        "                                                                   == \"death\")]"
      ],
      "metadata": {
        "id": "UYeJWXYhBkI6"
      },
      "execution_count": 21,
      "outputs": []
    },
    {
      "cell_type": "code",
      "source": [
        "avg_other = other_cat_films[\"imdb_score\"].mean()\n",
        "avg_love =  love_cat_films[\"imdb_score\"].mean()\n",
        "avg_death = death_cat_films[\"imdb_score\"].mean()\n",
        "avg_love_death = death_cat_films[\"imdb_score\"].mean()\n"
      ],
      "metadata": {
        "id": "nTBNUpVRCv_c"
      },
      "execution_count": 22,
      "outputs": []
    },
    {
      "cell_type": "code",
      "source": [
        "category_avg_score = {\"category\" : [\"love\", \"death\", \"love_and_death\", \"other\"],\n",
        "                      \"averaged_imdb_score\" : [avg_love, avg_death, \n",
        "                                               avg_love_death, avg_other]}"
      ],
      "metadata": {
        "id": "WbgfMjS1HrtI"
      },
      "execution_count": 23,
      "outputs": []
    },
    {
      "cell_type": "code",
      "source": [
        "category_avg_score = pd.DataFrame(category_avg_score)\n",
        "category_avg_score"
      ],
      "metadata": {
        "colab": {
          "base_uri": "https://localhost:8080/",
          "height": 175
        },
        "id": "SD5VSraTJL0Z",
        "outputId": "450b533d-7373-474b-f2bc-ed50391431e0"
      },
      "execution_count": 24,
      "outputs": [
        {
          "output_type": "execute_result",
          "data": {
            "text/html": [
              "\n",
              "  <div id=\"df-d6bb7740-60e1-435c-9c7b-21f757783fc8\">\n",
              "    <div class=\"colab-df-container\">\n",
              "      <div>\n",
              "<style scoped>\n",
              "    .dataframe tbody tr th:only-of-type {\n",
              "        vertical-align: middle;\n",
              "    }\n",
              "\n",
              "    .dataframe tbody tr th {\n",
              "        vertical-align: top;\n",
              "    }\n",
              "\n",
              "    .dataframe thead th {\n",
              "        text-align: right;\n",
              "    }\n",
              "</style>\n",
              "<table border=\"1\" class=\"dataframe\">\n",
              "  <thead>\n",
              "    <tr style=\"text-align: right;\">\n",
              "      <th></th>\n",
              "      <th>category</th>\n",
              "      <th>averaged_imdb_score</th>\n",
              "    </tr>\n",
              "  </thead>\n",
              "  <tbody>\n",
              "    <tr>\n",
              "      <th>0</th>\n",
              "      <td>love</td>\n",
              "      <td>6.580769</td>\n",
              "    </tr>\n",
              "    <tr>\n",
              "      <th>1</th>\n",
              "      <td>death</td>\n",
              "      <td>6.535465</td>\n",
              "    </tr>\n",
              "    <tr>\n",
              "      <th>2</th>\n",
              "      <td>love_and_death</td>\n",
              "      <td>6.535465</td>\n",
              "    </tr>\n",
              "    <tr>\n",
              "      <th>3</th>\n",
              "      <td>other</td>\n",
              "      <td>6.443017</td>\n",
              "    </tr>\n",
              "  </tbody>\n",
              "</table>\n",
              "</div>\n",
              "      <button class=\"colab-df-convert\" onclick=\"convertToInteractive('df-d6bb7740-60e1-435c-9c7b-21f757783fc8')\"\n",
              "              title=\"Convert this dataframe to an interactive table.\"\n",
              "              style=\"display:none;\">\n",
              "        \n",
              "  <svg xmlns=\"http://www.w3.org/2000/svg\" height=\"24px\"viewBox=\"0 0 24 24\"\n",
              "       width=\"24px\">\n",
              "    <path d=\"M0 0h24v24H0V0z\" fill=\"none\"/>\n",
              "    <path d=\"M18.56 5.44l.94 2.06.94-2.06 2.06-.94-2.06-.94-.94-2.06-.94 2.06-2.06.94zm-11 1L8.5 8.5l.94-2.06 2.06-.94-2.06-.94L8.5 2.5l-.94 2.06-2.06.94zm10 10l.94 2.06.94-2.06 2.06-.94-2.06-.94-.94-2.06-.94 2.06-2.06.94z\"/><path d=\"M17.41 7.96l-1.37-1.37c-.4-.4-.92-.59-1.43-.59-.52 0-1.04.2-1.43.59L10.3 9.45l-7.72 7.72c-.78.78-.78 2.05 0 2.83L4 21.41c.39.39.9.59 1.41.59.51 0 1.02-.2 1.41-.59l7.78-7.78 2.81-2.81c.8-.78.8-2.07 0-2.86zM5.41 20L4 18.59l7.72-7.72 1.47 1.35L5.41 20z\"/>\n",
              "  </svg>\n",
              "      </button>\n",
              "      \n",
              "  <style>\n",
              "    .colab-df-container {\n",
              "      display:flex;\n",
              "      flex-wrap:wrap;\n",
              "      gap: 12px;\n",
              "    }\n",
              "\n",
              "    .colab-df-convert {\n",
              "      background-color: #E8F0FE;\n",
              "      border: none;\n",
              "      border-radius: 50%;\n",
              "      cursor: pointer;\n",
              "      display: none;\n",
              "      fill: #1967D2;\n",
              "      height: 32px;\n",
              "      padding: 0 0 0 0;\n",
              "      width: 32px;\n",
              "    }\n",
              "\n",
              "    .colab-df-convert:hover {\n",
              "      background-color: #E2EBFA;\n",
              "      box-shadow: 0px 1px 2px rgba(60, 64, 67, 0.3), 0px 1px 3px 1px rgba(60, 64, 67, 0.15);\n",
              "      fill: #174EA6;\n",
              "    }\n",
              "\n",
              "    [theme=dark] .colab-df-convert {\n",
              "      background-color: #3B4455;\n",
              "      fill: #D2E3FC;\n",
              "    }\n",
              "\n",
              "    [theme=dark] .colab-df-convert:hover {\n",
              "      background-color: #434B5C;\n",
              "      box-shadow: 0px 1px 3px 1px rgba(0, 0, 0, 0.15);\n",
              "      filter: drop-shadow(0px 1px 2px rgba(0, 0, 0, 0.3));\n",
              "      fill: #FFFFFF;\n",
              "    }\n",
              "  </style>\n",
              "\n",
              "      <script>\n",
              "        const buttonEl =\n",
              "          document.querySelector('#df-d6bb7740-60e1-435c-9c7b-21f757783fc8 button.colab-df-convert');\n",
              "        buttonEl.style.display =\n",
              "          google.colab.kernel.accessAllowed ? 'block' : 'none';\n",
              "\n",
              "        async function convertToInteractive(key) {\n",
              "          const element = document.querySelector('#df-d6bb7740-60e1-435c-9c7b-21f757783fc8');\n",
              "          const dataTable =\n",
              "            await google.colab.kernel.invokeFunction('convertToInteractive',\n",
              "                                                     [key], {});\n",
              "          if (!dataTable) return;\n",
              "\n",
              "          const docLinkHtml = 'Like what you see? Visit the ' +\n",
              "            '<a target=\"_blank\" href=https://colab.research.google.com/notebooks/data_table.ipynb>data table notebook</a>'\n",
              "            + ' to learn more about interactive tables.';\n",
              "          element.innerHTML = '';\n",
              "          dataTable['output_type'] = 'display_data';\n",
              "          await google.colab.output.renderOutput(dataTable, element);\n",
              "          const docLink = document.createElement('div');\n",
              "          docLink.innerHTML = docLinkHtml;\n",
              "          element.appendChild(docLink);\n",
              "        }\n",
              "      </script>\n",
              "    </div>\n",
              "  </div>\n",
              "  "
            ],
            "text/plain": [
              "         category  averaged_imdb_score\n",
              "0            love             6.580769\n",
              "1           death             6.535465\n",
              "2  love_and_death             6.535465\n",
              "3           other             6.443017"
            ]
          },
          "metadata": {},
          "execution_count": 24
        }
      ]
    },
    {
      "cell_type": "code",
      "source": [
        "movie_data.columns"
      ],
      "metadata": {
        "colab": {
          "base_uri": "https://localhost:8080/"
        },
        "id": "Hek0OMkgLHBG",
        "outputId": "1a59e87e-5396-4b1a-cd74-1b7ed29ff05d"
      },
      "execution_count": 25,
      "outputs": [
        {
          "output_type": "execute_result",
          "data": {
            "text/plain": [
              "Index(['color', 'director_name', 'num_critic_for_reviews', 'duration',\n",
              "       'director_facebook_likes', 'actor_3_facebook_likes', 'actor_2_name',\n",
              "       'actor_1_facebook_likes', 'gross', 'genres', 'actor_1_name',\n",
              "       'movie_title', 'num_voted_users', 'cast_total_facebook_likes',\n",
              "       'actor_3_name', 'facenumber_in_poster', 'plot_keywords',\n",
              "       'movie_imdb_link', 'num_user_for_reviews', 'language', 'country',\n",
              "       'content_rating', 'budget', 'title_year', 'actor_2_facebook_likes',\n",
              "       'imdb_score', 'aspect_ratio', 'movie_facebook_likes',\n",
              "       'movie_duration_category', 'movie_plot_category'],\n",
              "      dtype='object')"
            ]
          },
          "metadata": {},
          "execution_count": 25
        }
      ]
    },
    {
      "cell_type": "markdown",
      "source": [
        "1.10. What is the average rating of films in the \"love\" category? Give the answer as a floatingpoint figure rounded to two decimal places:\n",
        "\n",
        "*Answer:*"
      ],
      "metadata": {
        "id": "-_t2ZPdrLpHo"
      }
    },
    {
      "cell_type": "code",
      "source": [
        "love_movies = movie_data.loc[(movie_data[\"movie_plot_category\"] == \"love\")]"
      ],
      "metadata": {
        "id": "LnkgyBsIMBzO"
      },
      "execution_count": 26,
      "outputs": []
    },
    {
      "cell_type": "code",
      "source": [
        "love_movies[\"imdb_score\"].isnull().sum()"
      ],
      "metadata": {
        "colab": {
          "base_uri": "https://localhost:8080/"
        },
        "id": "YoJGoiPLND0j",
        "outputId": "f2d8eb42-8927-4919-eac3-63af102ebf9c"
      },
      "execution_count": 27,
      "outputs": [
        {
          "output_type": "execute_result",
          "data": {
            "text/plain": [
              "0"
            ]
          },
          "metadata": {},
          "execution_count": 27
        }
      ]
    },
    {
      "cell_type": "code",
      "source": [
        "round(love_movies[\"imdb_score\"].mean(),2)"
      ],
      "metadata": {
        "colab": {
          "base_uri": "https://localhost:8080/"
        },
        "id": "3EWKAl5hOIrL",
        "outputId": "0c8d135e-449f-4427-e586-41a8d0a9dfb2"
      },
      "execution_count": 28,
      "outputs": [
        {
          "output_type": "execute_result",
          "data": {
            "text/plain": [
              "6.58"
            ]
          },
          "metadata": {},
          "execution_count": 28
        }
      ]
    },
    {
      "cell_type": "markdown",
      "source": [
        "The average rating of movies in the love category is 6.58 the filtered values related to such a category does not contain null values."
      ],
      "metadata": {
        "id": "hguyx8IvPBCK"
      }
    },
    {
      "cell_type": "markdown",
      "source": [
        "1.11. The budget column contains the film's budget. What is the median budget for all the films\n",
        "listed? Give the answer as an integer.\n",
        "\n",
        "*Answer:*"
      ],
      "metadata": {
        "id": "4A5shdHXQRkj"
      }
    },
    {
      "cell_type": "code",
      "source": [
        "movie_data[\"budget\"] = movie_data[\"budget\"].apply(lambda \n",
        "                                            film: float(film.replace(\"$\",\"\")))"
      ],
      "metadata": {
        "id": "XvyOCuJiShKk"
      },
      "execution_count": 29,
      "outputs": []
    },
    {
      "cell_type": "code",
      "source": [
        "int(movie_data[\"budget\"].median())"
      ],
      "metadata": {
        "colab": {
          "base_uri": "https://localhost:8080/"
        },
        "id": "1TG2s1XQQ_D_",
        "outputId": "9228ca4c-12f9-4aa5-c4f7-63a8465cc841"
      },
      "execution_count": 30,
      "outputs": [
        {
          "output_type": "execute_result",
          "data": {
            "text/plain": [
              "15000000"
            ]
          },
          "metadata": {},
          "execution_count": 30
        }
      ]
    },
    {
      "cell_type": "markdown",
      "source": [
        "The median of movies' budget is 1,500,000.00 US Dollars. \n"
      ],
      "metadata": {
        "id": "XteaziShTOa9"
      }
    }
  ]
}